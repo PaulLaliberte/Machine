{
 "cells": [
  {
   "cell_type": "code",
   "execution_count": 2,
   "metadata": {
    "collapsed": false,
    "scrolled": false
   },
   "outputs": [
    {
     "data": {
      "text/html": [
       "<div>\n",
       "<table border=\"1\" class=\"dataframe\">\n",
       "  <thead>\n",
       "    <tr style=\"text-align: right;\">\n",
       "      <th></th>\n",
       "      <th>term</th>\n",
       "      <th>tf</th>\n",
       "    </tr>\n",
       "  </thead>\n",
       "  <tbody>\n",
       "    <tr>\n",
       "      <th>0</th>\n",
       "      <td>car</td>\n",
       "      <td>29500</td>\n",
       "    </tr>\n",
       "    <tr>\n",
       "      <th>1</th>\n",
       "      <td>like</td>\n",
       "      <td>19200</td>\n",
       "    </tr>\n",
       "    <tr>\n",
       "      <th>2</th>\n",
       "      <td>one</td>\n",
       "      <td>19100</td>\n",
       "    </tr>\n",
       "    <tr>\n",
       "      <th>3</th>\n",
       "      <td>distribution</td>\n",
       "      <td>17300</td>\n",
       "    </tr>\n",
       "    <tr>\n",
       "      <th>4</th>\n",
       "      <td>cars</td>\n",
       "      <td>16000</td>\n",
       "    </tr>\n",
       "    <tr>\n",
       "      <th>5</th>\n",
       "      <td>get</td>\n",
       "      <td>15400</td>\n",
       "    </tr>\n",
       "    <tr>\n",
       "      <th>6</th>\n",
       "      <td>good</td>\n",
       "      <td>14900</td>\n",
       "    </tr>\n",
       "    <tr>\n",
       "      <th>7</th>\n",
       "      <td>usa</td>\n",
       "      <td>14500</td>\n",
       "    </tr>\n",
       "    <tr>\n",
       "      <th>8</th>\n",
       "      <td>know</td>\n",
       "      <td>14200</td>\n",
       "    </tr>\n",
       "    <tr>\n",
       "      <th>9</th>\n",
       "      <td>think</td>\n",
       "      <td>13700</td>\n",
       "    </tr>\n",
       "    <tr>\n",
       "      <th>10</th>\n",
       "      <td>time</td>\n",
       "      <td>12600</td>\n",
       "    </tr>\n",
       "    <tr>\n",
       "      <th>11</th>\n",
       "      <td>also</td>\n",
       "      <td>12600</td>\n",
       "    </tr>\n",
       "    <tr>\n",
       "      <th>12</th>\n",
       "      <td>much</td>\n",
       "      <td>12500</td>\n",
       "    </tr>\n",
       "    <tr>\n",
       "      <th>13</th>\n",
       "      <td>new</td>\n",
       "      <td>12300</td>\n",
       "    </tr>\n",
       "    <tr>\n",
       "      <th>14</th>\n",
       "      <td>reply</td>\n",
       "      <td>11700</td>\n",
       "    </tr>\n",
       "    <tr>\n",
       "      <th>15</th>\n",
       "      <td>right</td>\n",
       "      <td>10400</td>\n",
       "    </tr>\n",
       "    <tr>\n",
       "      <th>16</th>\n",
       "      <td>go</td>\n",
       "      <td>10300</td>\n",
       "    </tr>\n",
       "    <tr>\n",
       "      <th>17</th>\n",
       "      <td>people</td>\n",
       "      <td>10300</td>\n",
       "    </tr>\n",
       "    <tr>\n",
       "      <th>18</th>\n",
       "      <td>please</td>\n",
       "      <td>10200</td>\n",
       "    </tr>\n",
       "    <tr>\n",
       "      <th>19</th>\n",
       "      <td>really</td>\n",
       "      <td>10100</td>\n",
       "    </tr>\n",
       "  </tbody>\n",
       "</table>\n",
       "</div>"
      ],
      "text/plain": [
       "            term     tf\n",
       "0            car  29500\n",
       "1           like  19200\n",
       "2            one  19100\n",
       "3   distribution  17300\n",
       "4           cars  16000\n",
       "5            get  15400\n",
       "6           good  14900\n",
       "7            usa  14500\n",
       "8           know  14200\n",
       "9          think  13700\n",
       "10          time  12600\n",
       "11          also  12600\n",
       "12          much  12500\n",
       "13           new  12300\n",
       "14         reply  11700\n",
       "15         right  10400\n",
       "16            go  10300\n",
       "17        people  10300\n",
       "18        please  10200\n",
       "19        really  10100"
      ]
     },
     "execution_count": 2,
     "metadata": {},
     "output_type": "execute_result"
    }
   ],
   "source": [
    "import pandas as pd\n",
    "\n",
    "df_bp = pd.read_pickle('best_pos')\n",
    "df_wp = pd.read_pickle('worst_pos')\n",
    "df_bn = pd.read_pickle('best_neg')\n",
    "df_wn = pd.read_pickle('worst_neg')\n",
    "df_tf_auto = pd.read_pickle('tf_cycle')\n",
    "df_tf_cycle = pd.read_pickle('tf_auto')\n",
    "\n",
    "df_bp = pd.DataFrame.sort_values(df_bp, 'tfidf (sum)', ascending=False)\n",
    "df_bn = pd.DataFrame.sort_values(df_bn, 'tfidf (sum)', ascending=False)\n",
    "df_wp = pd.DataFrame.sort_values(df_wp, 'tfidf (sum)', ascending=False)\n",
    "df_wn = pd.DataFrame.sort_values(df_wn, 'tfidf (sum)', ascending=False)\n",
    "df_tf_auto = pd.DataFrame.sort_values(df_tf_auto, 'tf', ascending=False)\n",
    "df_tf_cycle = pd.DataFrame.sort_values(df_tf_cycle, 'tf', ascending=False)\n",
    "\n",
    "df_bp = df_bp.reset_index()\n",
    "df_bn = df_bn.reset_index()\n",
    "df_wp = df_wp.reset_index()\n",
    "df_wn = df_wn.reset_index()\n",
    "df_tf_auto = df_tf_auto.reset_index()\n",
    "df_tf_cycle = df_tf_cycle.reset_index()\n",
    "\n",
    "del df_bp['index']\n",
    "del df_bn['index']\n",
    "del df_wp['index']\n",
    "del df_wn['index']\n",
    "del df_tf_auto['index']\n",
    "del df_tf_cycle['index']\n",
    "\n",
    "\n",
    "#df_bp\n",
    "#df_bn\n",
    "#df_wp\n",
    "#df_wn\n",
    "\n",
    "df_tf_auto\n",
    "\n"
   ]
  },
  {
   "cell_type": "code",
   "execution_count": 6,
   "metadata": {
    "collapsed": false,
    "scrolled": true
   },
   "outputs": [
    {
     "data": {
      "image/png": "[encoded data removed]",
      "text/plain": [
       "<matplotlib.figure.Figure at 0x1096b8fd0>"
      ]
     },
     "metadata": {},
     "output_type": "display_data"
    }
   ],
   "source": [
    "import matplotlib.pyplot as plt\n",
    "import numpy as np\n",
    "\n",
    "\n",
    "y = np.array([.1, .01 , .001, .0001, .00001, .000001, .0000001, .00000001, \n",
    "              .000000001, .0000000001, .00000000001])\n",
    "x = np.array([.954887, .954887, .947368, .932331, .902256, .879699, .879699, \n",
    "              .879699, .879699, .879699, .879699])\n",
    "x_tfidf = np.array([.924812, .917293, .917293, .917293, .917293, .917293, .917293, .917293, .917293, .917293,\n",
    "                   .917293])\n",
    "plt.yscale('log', linthresy=.1)\n",
    "plt.ylim(.000000000001, ymax=1)\n",
    "plt.xlim(xmin=.87, xmax=.96)\n",
    "red_dot, = plt.plot(x, y, 'ro')\n",
    "blue_dot, = plt.plot(x_tfidf, y, 'bo')\n",
    "plt.legend([red_dot, blue_dot], [\"w/o tf-idf\", \"with tf-idf\"])\n",
    "plt.xlabel('Test Accuracy at Three Passes')\n",
    "plt.ylabel('eta (learning rate)')\n",
    "plt.show()"
   ]
  },
  {
   "cell_type": "code",
   "execution_count": 55,
   "metadata": {
    "collapsed": false
   },
   "outputs": [
    {
     "data": {
      "text/plain": [
       "<matplotlib.figure.Figure at 0x10b89bed0>"
      ]
     },
     "metadata": {},
     "output_type": "display_data"
    },
    {
     "data": {
      "text/plain": [
       "<matplotlib.figure.Figure at 0x10b74bd90>"
      ]
     },
     "metadata": {},
     "output_type": "display_data"
    },
    {
     "data": {
      "image/png": "[encoded data removed]",
      "text/plain": [
       "<matplotlib.figure.Figure at 0x10b7d2d10>"
      ]
     },
     "metadata": {},
     "output_type": "display_data"
    }
   ],
   "source": [
    "import numpy as np\n",
    "import pandas as pd\n",
    "import matplotlib.pyplot as plt\n",
    "\n",
    "fig = plt.gcf()\n",
    "fig.set_size_inches(18.5, 10.5)\n",
    "\n",
    "eta = pd.read_pickle('eta1')\n",
    "etaa = pd.read_pickle('eta2')\n",
    "etaaa = pd.read_pickle('eta3')\n",
    "\"\"\"\n",
    "etaa = pd.read_pickle('eta4')\n",
    "etaa = pd.read_pickle('eta5')\n",
    "etaa = pd.read_pickle('eta6')\n",
    "etaa = pd.read_pickle('eta7')\n",
    "etaa = pd.read_pickle('eta8')\n",
    "etaa = pd.read_pickle('eta9')\n",
    "etaa = pd.read_pickle('eta10')\n",
    "etaa = pd.read_pickle('eta11')\n",
    "\"\"\"\n",
    "\n",
    "result = pd.concat([eta, etaa, etaaa], axis=1)\n",
    "plt.figure(); result.plot(); plt.legend(loc='best')\n",
    "plt.show()"
   ]
  },
  {
   "cell_type": "code",
   "execution_count": null,
   "metadata": {
    "collapsed": true
   },
   "outputs": [],
   "source": []
  }
 ],
 "metadata": {
  "kernelspec": {
   "display_name": "Python 2",
   "language": "python",
   "name": "python2"
  },
  "language_info": {
   "codemirror_mode": {
    "name": "ipython",
    "version": 2
   },
   "file_extension": ".py",
   "mimetype": "text/x-python",
   "name": "python",
   "nbconvert_exporter": "python",
   "pygments_lexer": "ipython2",
   "version": "2.7.12"
  }
 },
 "nbformat": 4,
 "nbformat_minor": 1
}

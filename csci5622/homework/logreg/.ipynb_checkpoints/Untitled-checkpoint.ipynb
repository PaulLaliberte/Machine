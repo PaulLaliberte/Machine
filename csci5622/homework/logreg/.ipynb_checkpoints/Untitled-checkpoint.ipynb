{
 "cells": [
  {
   "cell_type": "code",
   "execution_count": 17,
   "metadata": {
    "collapsed": false,
    "scrolled": false
   },
   "outputs": [
    {
     "data": {
      "text/html": [
       "<div>\n",
       "<table border=\"1\" class=\"dataframe\">\n",
       "  <thead>\n",
       "    <tr style=\"text-align: right;\">\n",
       "      <th></th>\n",
       "      <th>term</th>\n",
       "      <th>tf</th>\n",
       "    </tr>\n",
       "  </thead>\n",
       "  <tbody>\n",
       "    <tr>\n",
       "      <th>0</th>\n",
       "      <td>car</td>\n",
       "      <td>2950</td>\n",
       "    </tr>\n",
       "    <tr>\n",
       "      <th>1</th>\n",
       "      <td>like</td>\n",
       "      <td>1920</td>\n",
       "    </tr>\n",
       "    <tr>\n",
       "      <th>2</th>\n",
       "      <td>one</td>\n",
       "      <td>1910</td>\n",
       "    </tr>\n",
       "    <tr>\n",
       "      <th>3</th>\n",
       "      <td>distribution</td>\n",
       "      <td>1730</td>\n",
       "    </tr>\n",
       "    <tr>\n",
       "      <th>4</th>\n",
       "      <td>cars</td>\n",
       "      <td>1600</td>\n",
       "    </tr>\n",
       "    <tr>\n",
       "      <th>5</th>\n",
       "      <td>get</td>\n",
       "      <td>1540</td>\n",
       "    </tr>\n",
       "    <tr>\n",
       "      <th>6</th>\n",
       "      <td>good</td>\n",
       "      <td>1490</td>\n",
       "    </tr>\n",
       "    <tr>\n",
       "      <th>7</th>\n",
       "      <td>usa</td>\n",
       "      <td>1450</td>\n",
       "    </tr>\n",
       "    <tr>\n",
       "      <th>8</th>\n",
       "      <td>know</td>\n",
       "      <td>1420</td>\n",
       "    </tr>\n",
       "    <tr>\n",
       "      <th>9</th>\n",
       "      <td>think</td>\n",
       "      <td>1370</td>\n",
       "    </tr>\n",
       "    <tr>\n",
       "      <th>10</th>\n",
       "      <td>time</td>\n",
       "      <td>1260</td>\n",
       "    </tr>\n",
       "    <tr>\n",
       "      <th>11</th>\n",
       "      <td>also</td>\n",
       "      <td>1260</td>\n",
       "    </tr>\n",
       "    <tr>\n",
       "      <th>12</th>\n",
       "      <td>much</td>\n",
       "      <td>1250</td>\n",
       "    </tr>\n",
       "    <tr>\n",
       "      <th>13</th>\n",
       "      <td>new</td>\n",
       "      <td>1230</td>\n",
       "    </tr>\n",
       "    <tr>\n",
       "      <th>14</th>\n",
       "      <td>reply</td>\n",
       "      <td>1170</td>\n",
       "    </tr>\n",
       "    <tr>\n",
       "      <th>15</th>\n",
       "      <td>right</td>\n",
       "      <td>1040</td>\n",
       "    </tr>\n",
       "    <tr>\n",
       "      <th>16</th>\n",
       "      <td>go</td>\n",
       "      <td>1030</td>\n",
       "    </tr>\n",
       "    <tr>\n",
       "      <th>17</th>\n",
       "      <td>people</td>\n",
       "      <td>1030</td>\n",
       "    </tr>\n",
       "    <tr>\n",
       "      <th>18</th>\n",
       "      <td>please</td>\n",
       "      <td>1020</td>\n",
       "    </tr>\n",
       "    <tr>\n",
       "      <th>19</th>\n",
       "      <td>really</td>\n",
       "      <td>1010</td>\n",
       "    </tr>\n",
       "  </tbody>\n",
       "</table>\n",
       "</div>"
      ],
      "text/plain": [
       "            term    tf\n",
       "0            car  2950\n",
       "1           like  1920\n",
       "2            one  1910\n",
       "3   distribution  1730\n",
       "4           cars  1600\n",
       "5            get  1540\n",
       "6           good  1490\n",
       "7            usa  1450\n",
       "8           know  1420\n",
       "9          think  1370\n",
       "10          time  1260\n",
       "11          also  1260\n",
       "12          much  1250\n",
       "13           new  1230\n",
       "14         reply  1170\n",
       "15         right  1040\n",
       "16            go  1030\n",
       "17        people  1030\n",
       "18        please  1020\n",
       "19        really  1010"
      ]
     },
     "execution_count": 17,
     "metadata": {},
     "output_type": "execute_result"
    }
   ],
   "source": [
    "import pandas as pd\n",
    "\n",
    "df_bp = pd.read_pickle('best_pos')\n",
    "df_wp = pd.read_pickle('worst_pos')\n",
    "df_bn = pd.read_pickle('best_neg')\n",
    "df_wn = pd.read_pickle('worst_neg')\n",
    "df_tf_auto = pd.read_pickle('tf_auto')\n",
    "df_tf_cycle = pd.read_pickle('tf_cycle')\n",
    "\n",
    "df_bp = pd.DataFrame.sort_values(df_bp, 'tfidf (sum)', ascending=False)\n",
    "df_bn = pd.DataFrame.sort_values(df_bn, 'tfidf (sum)', ascending=False)\n",
    "df_wp = pd.DataFrame.sort_values(df_wp, 'tfidf (sum)', ascending=False)\n",
    "df_wn = pd.DataFrame.sort_values(df_wn, 'tfidf (sum)', ascending=False)\n",
    "df_tf_auto = pd.DataFrame.sort_values(df_tf_auto, 'tf', ascending=False)\n",
    "df_tf_cycle = pd.DataFrame.sort_values(df_tf_cycle, 'tf', ascending=False)\n",
    "\n",
    "df_bp = df_bp.reset_index()\n",
    "df_bn = df_bn.reset_index()\n",
    "df_wp = df_wp.reset_index()\n",
    "df_wn = df_wn.reset_index()\n",
    "df_tf_auto = df_tf_auto.reset_index()\n",
    "df_tf_cycle = df_tf_cycle.reset_index()\n",
    "\n",
    "del df_bp['index']\n",
    "del df_bn['index']\n",
    "del df_wp['index']\n",
    "del df_wn['index']\n",
    "del df_tf_auto['index']\n",
    "del df_tf_cycle['index']\n",
    "\n",
    "\n",
    "#df_bp\n",
    "#df_bn\n",
    "#df_wp\n",
    "#df_wn\n",
    "\n",
    "df_tf_cycle\n",
    "\n"
   ]
  },
  {
   "cell_type": "code",
   "execution_count": 11,
   "metadata": {
    "collapsed": false,
    "scrolled": true
   },
   "outputs": [
    {
     "data": {
      "image/png": "[encoded data removed]",
      "text/plain": [
       "<matplotlib.figure.Figure at 0x10c7d9b10>"
      ]
     },
     "metadata": {},
     "output_type": "display_data"
    }
   ],
   "source": [
    "import matplotlib.pyplot as plt\n",
    "import numpy as np\n",
    "\n",
    "\n",
    "y = np.array([.1, .01 , .001, .0001, .00001, .000001, .0000001, .00000001, \n",
    "              .000000001, .0000000001, .00000000001])\n",
    "x = np.array([.954887, .954887, .947368, .932331, .902256, .879699, .879699, \n",
    "              .879699, .879699, .879699, .879699])\n",
    "x_tfidf = np.array([.924812, .917293, .917293, .917293, .917293, .917293, .917293, .917293, .917293, .917293,\n",
    "                   .917293])\n",
    "plt.yscale('log', linthresy=.1)\n",
    "plt.ylim(.000000000001, ymax=1)\n",
    "plt.xlim(xmin=.87, xmax=.96)\n",
    "red_dot, = plt.plot(x, y, 'ro')\n",
    "blue_dot, = plt.plot(x_tfidf, y, 'bo')\n",
    "plt.legend([red_dot, blue_dot], [\"w/o tf-idf\", \"with tf-idf\"])\n",
    "plt.xlabel('Test Accuracy at Three Passes')\n",
    "plt.ylabel('eta (learning rate)')\n",
    "plt.show()"
   ]
  },
  {
   "cell_type": "code",
   "execution_count": 32,
   "metadata": {
    "collapsed": false
   },
   "outputs": [
    {
     "data": {
      "image/png": "[encoded data removed]",
      "text/plain": [
       "<matplotlib.figure.Figure at 0x105f46750>"
      ]
     },
     "metadata": {},
     "output_type": "display_data"
    }
   ],
   "source": [
    "import numpy as np\n",
    "import pandas as pd\n",
    "import matplotlib.pyplot as plt\n",
    "\n",
    "x = np.array([1,2,3])\n",
    "y = np.array([10,20,30])\n",
    "df = pd.DataFrame(y, x)\n",
    "df.plot()\n",
    "plt.show()"
   ]
  },
  {
   "cell_type": "code",
   "execution_count": null,
   "metadata": {
    "collapsed": true
   },
   "outputs": [],
   "source": []
  }
 ],
 "metadata": {
  "kernelspec": {
   "display_name": "Python 2",
   "language": "python",
   "name": "python2"
  },
  "language_info": {
   "codemirror_mode": {
    "name": "ipython",
    "version": 2
   },
   "file_extension": ".py",
   "mimetype": "text/x-python",
   "name": "python",
   "nbconvert_exporter": "python",
   "pygments_lexer": "ipython2",
   "version": "2.7.12"
  }
 },
 "nbformat": 4,
 "nbformat_minor": 1
}
